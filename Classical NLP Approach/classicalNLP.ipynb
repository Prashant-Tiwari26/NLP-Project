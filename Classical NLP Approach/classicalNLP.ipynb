{
 "cells": [
  {
   "attachments": {},
   "cell_type": "markdown",
   "metadata": {},
   "source": [
    "# IMPORTING LIBRARIES"
   ]
  },
  {
   "cell_type": "code",
   "execution_count": 1,
   "metadata": {},
   "outputs": [],
   "source": [
    "import pandas as pd\n",
    "import numpy as np\n",
    "import matplotlib.pyplot as plt\n",
    "from sklearn.metrics import *\n",
    "from sklearn.feature_extraction.text import TfidfVectorizer\n",
    "from sklearn.model_selection import GridSearchCV, train_test_split\n",
    "import nltk\n",
    "from nltk.tokenize import word_tokenize\n",
    "from nltk.stem import WordNetLemmatizer, PorterStemmer\n",
    "from nltk.corpus import wordnet, stopwords\n",
    "import joblib"
   ]
  },
  {
   "cell_type": "code",
   "execution_count": 2,
   "metadata": {},
   "outputs": [
    {
     "name": "stderr",
     "output_type": "stream",
     "text": [
      "[nltk_data] Downloading package wordnet to\n",
      "[nltk_data]     C:\\Users\\Prash\\AppData\\Roaming\\nltk_data...\n",
      "[nltk_data]   Package wordnet is already up-to-date!\n",
      "[nltk_data] Downloading package punkt to\n",
      "[nltk_data]     C:\\Users\\Prash\\AppData\\Roaming\\nltk_data...\n",
      "[nltk_data]   Package punkt is already up-to-date!\n",
      "[nltk_data] Downloading package stopwords to\n",
      "[nltk_data]     C:\\Users\\Prash\\AppData\\Roaming\\nltk_data...\n",
      "[nltk_data]   Package stopwords is already up-to-date!\n",
      "[nltk_data] Downloading package averaged_perceptron_tagger to\n",
      "[nltk_data]     C:\\Users\\Prash\\AppData\\Roaming\\nltk_data...\n",
      "[nltk_data]   Package averaged_perceptron_tagger is already up-to-\n",
      "[nltk_data]       date!\n"
     ]
    },
    {
     "data": {
      "text/plain": [
       "True"
      ]
     },
     "execution_count": 2,
     "metadata": {},
     "output_type": "execute_result"
    }
   ],
   "source": [
    "nltk.download('wordnet')\n",
    "nltk.download('punkt')\n",
    "nltk.download('stopwords')\n",
    "nltk.download('averaged_perceptron_tagger')"
   ]
  },
  {
   "attachments": {},
   "cell_type": "markdown",
   "metadata": {},
   "source": [
    "# PREPARING DATA(Dataset 1)"
   ]
  },
  {
   "attachments": {},
   "cell_type": "markdown",
   "metadata": {},
   "source": [
    "## Loading Data"
   ]
  },
  {
   "cell_type": "code",
   "execution_count": 3,
   "metadata": {},
   "outputs": [
    {
     "data": {
      "text/html": [
       "<div>\n",
       "<style scoped>\n",
       "    .dataframe tbody tr th:only-of-type {\n",
       "        vertical-align: middle;\n",
       "    }\n",
       "\n",
       "    .dataframe tbody tr th {\n",
       "        vertical-align: top;\n",
       "    }\n",
       "\n",
       "    .dataframe thead th {\n",
       "        text-align: right;\n",
       "    }\n",
       "</style>\n",
       "<table border=\"1\" class=\"dataframe\">\n",
       "  <thead>\n",
       "    <tr style=\"text-align: right;\">\n",
       "      <th></th>\n",
       "      <th>Release Year</th>\n",
       "      <th>Title</th>\n",
       "      <th>Origin/Ethnicity</th>\n",
       "      <th>Director</th>\n",
       "      <th>Cast</th>\n",
       "      <th>Genre</th>\n",
       "      <th>Wiki Page</th>\n",
       "      <th>Plot</th>\n",
       "    </tr>\n",
       "  </thead>\n",
       "  <tbody>\n",
       "    <tr>\n",
       "      <th>0</th>\n",
       "      <td>1903</td>\n",
       "      <td>The Great Train Robbery</td>\n",
       "      <td>American</td>\n",
       "      <td>Edwin S. Porter</td>\n",
       "      <td>NaN</td>\n",
       "      <td>western</td>\n",
       "      <td>https://en.wikipedia.org/wiki/The_Great_Train_...</td>\n",
       "      <td>The film opens with two bandits breaking into ...</td>\n",
       "    </tr>\n",
       "    <tr>\n",
       "      <th>1</th>\n",
       "      <td>1904</td>\n",
       "      <td>The Suburbanite</td>\n",
       "      <td>American</td>\n",
       "      <td>Wallace McCutcheon</td>\n",
       "      <td>NaN</td>\n",
       "      <td>comedy</td>\n",
       "      <td>https://en.wikipedia.org/wiki/The_Suburbanite</td>\n",
       "      <td>The film is about a family who move to the sub...</td>\n",
       "    </tr>\n",
       "    <tr>\n",
       "      <th>2</th>\n",
       "      <td>1907</td>\n",
       "      <td>How Brown Saw the Baseball Game</td>\n",
       "      <td>American</td>\n",
       "      <td>Unknown</td>\n",
       "      <td>Unknown</td>\n",
       "      <td>comedy</td>\n",
       "      <td>https://en.wikipedia.org/wiki/How_Brown_Saw_th...</td>\n",
       "      <td>Before heading out to a baseball game at a nea...</td>\n",
       "    </tr>\n",
       "    <tr>\n",
       "      <th>3</th>\n",
       "      <td>1907</td>\n",
       "      <td>Laughing Gas</td>\n",
       "      <td>American</td>\n",
       "      <td>Edwin Stanton Porter</td>\n",
       "      <td>Bertha Regustus, Edward Boulden</td>\n",
       "      <td>comedy</td>\n",
       "      <td>https://en.wikipedia.org/wiki/Laughing_Gas_(fi...</td>\n",
       "      <td>The plot is that of a black woman going to the...</td>\n",
       "    </tr>\n",
       "    <tr>\n",
       "      <th>4</th>\n",
       "      <td>1908</td>\n",
       "      <td>The Adventures of Dollie</td>\n",
       "      <td>American</td>\n",
       "      <td>D. W. Griffith</td>\n",
       "      <td>Arthur V. Johnson, Linda Arvidson</td>\n",
       "      <td>drama</td>\n",
       "      <td>https://en.wikipedia.org/wiki/The_Adventures_o...</td>\n",
       "      <td>On a beautiful summer day a father and mother ...</td>\n",
       "    </tr>\n",
       "    <tr>\n",
       "      <th>...</th>\n",
       "      <td>...</td>\n",
       "      <td>...</td>\n",
       "      <td>...</td>\n",
       "      <td>...</td>\n",
       "      <td>...</td>\n",
       "      <td>...</td>\n",
       "      <td>...</td>\n",
       "      <td>...</td>\n",
       "    </tr>\n",
       "    <tr>\n",
       "      <th>17557</th>\n",
       "      <td>2011</td>\n",
       "      <td>White as Snow</td>\n",
       "      <td>Turkish</td>\n",
       "      <td>Selim Güneş</td>\n",
       "      <td>Hakan Korkmaz, Sinem İslamoğlu &amp; Gürkan Piri O...</td>\n",
       "      <td>drama</td>\n",
       "      <td>https://en.wikipedia.org/wiki/White_as_Snow_(f...</td>\n",
       "      <td>Hasan is a twelve-year-old boy living with his...</td>\n",
       "    </tr>\n",
       "    <tr>\n",
       "      <th>17558</th>\n",
       "      <td>2011</td>\n",
       "      <td>Once Upon a Time in Anatolia</td>\n",
       "      <td>Turkish</td>\n",
       "      <td>Nuri Bilge Ceylan</td>\n",
       "      <td>Yılmaz Erdoğan, Taner Birsel &amp; Ufuk Karaali</td>\n",
       "      <td>drama</td>\n",
       "      <td>https://en.wikipedia.org/wiki/Once_Upon_a_Time...</td>\n",
       "      <td>Through the night, three cars carry a small gr...</td>\n",
       "    </tr>\n",
       "    <tr>\n",
       "      <th>17559</th>\n",
       "      <td>2013</td>\n",
       "      <td>Selam</td>\n",
       "      <td>Turkish</td>\n",
       "      <td>Levent Demirkale</td>\n",
       "      <td>Bucin Abdullah, Selma Alispahic, Tina Cvitanov...</td>\n",
       "      <td>drama</td>\n",
       "      <td>https://en.wikipedia.org/wiki/Selam_(film)</td>\n",
       "      <td>The film opens with a Senegalese boy named Kha...</td>\n",
       "    </tr>\n",
       "    <tr>\n",
       "      <th>17560</th>\n",
       "      <td>2017</td>\n",
       "      <td>Çalgı Çengi İkimiz</td>\n",
       "      <td>Turkish</td>\n",
       "      <td>Selçuk Aydemir</td>\n",
       "      <td>Ahmet Kural, Murat Cemcir</td>\n",
       "      <td>comedy</td>\n",
       "      <td>https://en.wikipedia.org/wiki/%C3%87alg%C4%B1_...</td>\n",
       "      <td>Two musicians, Salih and Gürkan, described the...</td>\n",
       "    </tr>\n",
       "    <tr>\n",
       "      <th>17561</th>\n",
       "      <td>2017</td>\n",
       "      <td>Olanlar Oldu</td>\n",
       "      <td>Turkish</td>\n",
       "      <td>Hakan Algül</td>\n",
       "      <td>Ata Demirer, Tuvana Türkay, Ülkü Duru</td>\n",
       "      <td>comedy</td>\n",
       "      <td>https://en.wikipedia.org/wiki/Olanlar_Oldu</td>\n",
       "      <td>Zafer, a sailor living with his mother Döndü i...</td>\n",
       "    </tr>\n",
       "  </tbody>\n",
       "</table>\n",
       "<p>17562 rows × 8 columns</p>\n",
       "</div>"
      ],
      "text/plain": [
       "       Release Year                            Title Origin/Ethnicity  \\\n",
       "0              1903          The Great Train Robbery         American   \n",
       "1              1904                  The Suburbanite         American   \n",
       "2              1907  How Brown Saw the Baseball Game         American   \n",
       "3              1907                     Laughing Gas         American   \n",
       "4              1908         The Adventures of Dollie         American   \n",
       "...             ...                              ...              ...   \n",
       "17557          2011                    White as Snow          Turkish   \n",
       "17558          2011     Once Upon a Time in Anatolia          Turkish   \n",
       "17559          2013                            Selam          Turkish   \n",
       "17560          2017               Çalgı Çengi İkimiz          Turkish   \n",
       "17561          2017                     Olanlar Oldu          Turkish   \n",
       "\n",
       "                   Director  \\\n",
       "0           Edwin S. Porter   \n",
       "1        Wallace McCutcheon   \n",
       "2                   Unknown   \n",
       "3      Edwin Stanton Porter   \n",
       "4            D. W. Griffith   \n",
       "...                     ...   \n",
       "17557           Selim Güneş   \n",
       "17558     Nuri Bilge Ceylan   \n",
       "17559      Levent Demirkale   \n",
       "17560        Selçuk Aydemir   \n",
       "17561           Hakan Algül   \n",
       "\n",
       "                                                    Cast    Genre  \\\n",
       "0                                                    NaN  western   \n",
       "1                                                    NaN   comedy   \n",
       "2                                                Unknown   comedy   \n",
       "3                        Bertha Regustus, Edward Boulden   comedy   \n",
       "4                      Arthur V. Johnson, Linda Arvidson    drama   \n",
       "...                                                  ...      ...   \n",
       "17557  Hakan Korkmaz, Sinem İslamoğlu & Gürkan Piri O...    drama   \n",
       "17558        Yılmaz Erdoğan, Taner Birsel & Ufuk Karaali    drama   \n",
       "17559  Bucin Abdullah, Selma Alispahic, Tina Cvitanov...    drama   \n",
       "17560                          Ahmet Kural, Murat Cemcir   comedy   \n",
       "17561              Ata Demirer, Tuvana Türkay, Ülkü Duru   comedy   \n",
       "\n",
       "                                               Wiki Page  \\\n",
       "0      https://en.wikipedia.org/wiki/The_Great_Train_...   \n",
       "1          https://en.wikipedia.org/wiki/The_Suburbanite   \n",
       "2      https://en.wikipedia.org/wiki/How_Brown_Saw_th...   \n",
       "3      https://en.wikipedia.org/wiki/Laughing_Gas_(fi...   \n",
       "4      https://en.wikipedia.org/wiki/The_Adventures_o...   \n",
       "...                                                  ...   \n",
       "17557  https://en.wikipedia.org/wiki/White_as_Snow_(f...   \n",
       "17558  https://en.wikipedia.org/wiki/Once_Upon_a_Time...   \n",
       "17559         https://en.wikipedia.org/wiki/Selam_(film)   \n",
       "17560  https://en.wikipedia.org/wiki/%C3%87alg%C4%B1_...   \n",
       "17561         https://en.wikipedia.org/wiki/Olanlar_Oldu   \n",
       "\n",
       "                                                    Plot  \n",
       "0      The film opens with two bandits breaking into ...  \n",
       "1      The film is about a family who move to the sub...  \n",
       "2      Before heading out to a baseball game at a nea...  \n",
       "3      The plot is that of a black woman going to the...  \n",
       "4      On a beautiful summer day a father and mother ...  \n",
       "...                                                  ...  \n",
       "17557  Hasan is a twelve-year-old boy living with his...  \n",
       "17558  Through the night, three cars carry a small gr...  \n",
       "17559  The film opens with a Senegalese boy named Kha...  \n",
       "17560  Two musicians, Salih and Gürkan, described the...  \n",
       "17561  Zafer, a sailor living with his mother Döndü i...  \n",
       "\n",
       "[17562 rows x 8 columns]"
      ]
     },
     "execution_count": 3,
     "metadata": {},
     "output_type": "execute_result"
    }
   ],
   "source": [
    "dataset = pd.read_csv('../cleaned_data.csv')\n",
    "dataset.drop(['Unnamed: 0'], axis=1, inplace=True)\n",
    "dataset"
   ]
  },
  {
   "cell_type": "code",
   "execution_count": 4,
   "metadata": {},
   "outputs": [],
   "source": [
    "x = dataset['Plot'].copy()\n",
    "y1 = dataset['Genre'].copy()"
   ]
  },
  {
   "cell_type": "markdown",
   "metadata": {},
   "source": [
    "## Visualizing different classes"
   ]
  },
  {
   "cell_type": "code",
   "execution_count": 5,
   "metadata": {},
   "outputs": [
    {
     "data": {
      "image/png": "[encoded data removed]",
      "text/plain": [
       "<Figure size 640x480 with 1 Axes>"
      ]
     },
     "metadata": {},
     "output_type": "display_data"
    }
   ],
   "source": [
    "y1.value_counts().plot(kind='barh')\n",
    "plt.xlabel(\"Number of Movies\")\n",
    "plt.ylabel(\"Genre\")\n",
    "plt.show()"
   ]
  },
  {
   "cell_type": "code",
   "execution_count": 28,
   "metadata": {},
   "outputs": [],
   "source": [
    "unique_values = list(y1.unique())\n",
    "mapping = {value: index for index, value in enumerate(unique_values)}\n",
    "y2 = [mapping[string] for string in y1]\n",
    "mapping = {index: value for value, index in mapping.items()}"
   ]
  },
  {
   "attachments": {},
   "cell_type": "markdown",
   "metadata": {},
   "source": [
    "## Removing Stopwords"
   ]
  },
  {
   "cell_type": "code",
   "execution_count": 7,
   "metadata": {},
   "outputs": [],
   "source": [
    "stop_words = set(stopwords.words('english'))\n",
    "\n",
    "for i in range (0, len(x)):\n",
    "    plot = word_tokenize(x[i])\n",
    "    filtered_plot = [word for word in plot if not word in stop_words]\n",
    "    x[i] = ' '.join(filtered_plot)"
   ]
  },
  {
   "cell_type": "markdown",
   "metadata": {},
   "source": [
    "## Train Test Split"
   ]
  },
  {
   "cell_type": "code",
   "execution_count": 30,
   "metadata": {},
   "outputs": [],
   "source": [
    "xtrain, xtest, ytrain, ytest = train_test_split(x,y2, test_size=0.15, shuffle=True, stratify=y2, random_state=1)"
   ]
  },
  {
   "cell_type": "code",
   "execution_count": 31,
   "metadata": {},
   "outputs": [],
   "source": [
    "xtrain = np.array(xtrain)\n",
    "ytrain = np.array(ytrain)\n",
    "xtest = np.array(xtest)\n",
    "ytest = np.array(ytest)"
   ]
  },
  {
   "attachments": {},
   "cell_type": "markdown",
   "metadata": {},
   "source": [
    "## Word2Vec Conversion"
   ]
  },
  {
   "cell_type": "code",
   "execution_count": 5,
   "metadata": {},
   "outputs": [],
   "source": [
    "def get_wordnet_pos(treebank_tag):\n",
    "    if treebank_tag.startswith('J'):\n",
    "        return wordnet.ADJ\n",
    "    elif treebank_tag.startswith('V'):\n",
    "        return wordnet.VERB\n",
    "    elif treebank_tag.startswith('N'):\n",
    "        return wordnet.NOUN\n",
    "    elif treebank_tag.startswith('R'):\n",
    "        return wordnet.ADV\n",
    "    else: \n",
    "        return wordnet.NOUN"
   ]
  },
  {
   "cell_type": "code",
   "execution_count": 6,
   "metadata": {},
   "outputs": [],
   "source": [
    "class LemmTokenizer:\n",
    "    def __init__(self) -> None:\n",
    "        self.wnl = WordNetLemmatizer()\n",
    "    \n",
    "    def __call__(self, doc):\n",
    "        tokens = word_tokenize(doc)\n",
    "        words_and_tags = nltk.pos_tag(tokens)\n",
    "        return [self.wnl.lemmatize(word, pos=get_wordnet_pos(tag)) for word, tag in words_and_tags]"
   ]
  },
  {
   "cell_type": "code",
   "execution_count": 34,
   "metadata": {},
   "outputs": [
    {
     "name": "stderr",
     "output_type": "stream",
     "text": [
      "c:\\Users\\Prash\\AppData\\Local\\Programs\\Python\\Python310\\lib\\site-packages\\sklearn\\feature_extraction\\text.py:528: UserWarning: The parameter 'token_pattern' will not be used since 'tokenizer' is not None'\n",
      "  warnings.warn(\n"
     ]
    }
   ],
   "source": [
    "vectorizer = TfidfVectorizer(tokenizer=LemmTokenizer(), sublinear_tf=True, max_features=2000)\n",
    "\n",
    "xtrain = vectorizer.fit_transform(xtrain)\n",
    "xtest = vectorizer.transform(xtest)"
   ]
  },
  {
   "cell_type": "code",
   "execution_count": 43,
   "metadata": {},
   "outputs": [],
   "source": [
    "np.save('ytrain.npy', ytrain)\n",
    "np.save('ytest.npy', ytest)"
   ]
  },
  {
   "cell_type": "code",
   "execution_count": 44,
   "metadata": {},
   "outputs": [
    {
     "data": {
      "text/plain": [
       "scipy.sparse._csr.csr_matrix"
      ]
     },
     "execution_count": 44,
     "metadata": {},
     "output_type": "execute_result"
    }
   ],
   "source": [
    "type(xtrain)"
   ]
  },
  {
   "cell_type": "code",
   "execution_count": 45,
   "metadata": {},
   "outputs": [],
   "source": [
    "from scipy.sparse import save_npz\n",
    "save_npz('xtrain.npz', xtrain)\n",
    "save_npz('xtest.npz', xtest)"
   ]
  },
  {
   "attachments": {},
   "cell_type": "markdown",
   "metadata": {},
   "source": [
    "# PREPARING DATA(Dataset 2)"
   ]
  },
  {
   "cell_type": "code",
   "execution_count": 2,
   "metadata": {},
   "outputs": [
    {
     "data": {
      "text/html": [
       "<div>\n",
       "<style scoped>\n",
       "    .dataframe tbody tr th:only-of-type {\n",
       "        vertical-align: middle;\n",
       "    }\n",
       "\n",
       "    .dataframe tbody tr th {\n",
       "        vertical-align: top;\n",
       "    }\n",
       "\n",
       "    .dataframe thead th {\n",
       "        text-align: right;\n",
       "    }\n",
       "</style>\n",
       "<table border=\"1\" class=\"dataframe\">\n",
       "  <thead>\n",
       "    <tr style=\"text-align: right;\">\n",
       "      <th></th>\n",
       "      <th>Release Year</th>\n",
       "      <th>Title</th>\n",
       "      <th>Origin/Ethnicity</th>\n",
       "      <th>Director</th>\n",
       "      <th>Cast</th>\n",
       "      <th>Genre</th>\n",
       "      <th>Wiki Page</th>\n",
       "      <th>Plot</th>\n",
       "    </tr>\n",
       "  </thead>\n",
       "  <tbody>\n",
       "    <tr>\n",
       "      <th>0</th>\n",
       "      <td>1903</td>\n",
       "      <td>The Great Train Robbery</td>\n",
       "      <td>American</td>\n",
       "      <td>Edwin S. Porter</td>\n",
       "      <td>NaN</td>\n",
       "      <td>western</td>\n",
       "      <td>https://en.wikipedia.org/wiki/The_Great_Train_...</td>\n",
       "      <td>The film opens with two bandits breaking into ...</td>\n",
       "    </tr>\n",
       "    <tr>\n",
       "      <th>1</th>\n",
       "      <td>1908</td>\n",
       "      <td>The Call of the Wild</td>\n",
       "      <td>American</td>\n",
       "      <td>D. W. Griffith</td>\n",
       "      <td>Charles Inslee</td>\n",
       "      <td>adventure</td>\n",
       "      <td>https://en.wikipedia.org/wiki/The_Call_of_the_...</td>\n",
       "      <td>A white girl (Florence Lawrence) rejects a pro...</td>\n",
       "    </tr>\n",
       "    <tr>\n",
       "      <th>2</th>\n",
       "      <td>1908</td>\n",
       "      <td>The Fight for Freedom</td>\n",
       "      <td>American</td>\n",
       "      <td>D. W. Griffith</td>\n",
       "      <td>Florence Auer, John G. Adolfi</td>\n",
       "      <td>western</td>\n",
       "      <td>https://en.wikipedia.org/wiki/The_Fight_for_Fr...</td>\n",
       "      <td>The film opens in a town on the Mexican border...</td>\n",
       "    </tr>\n",
       "    <tr>\n",
       "      <th>3</th>\n",
       "      <td>1912</td>\n",
       "      <td>Dr. Jekyll and Mr. Hyde</td>\n",
       "      <td>American</td>\n",
       "      <td>Lucius Henderson</td>\n",
       "      <td>James Cruze</td>\n",
       "      <td>horror</td>\n",
       "      <td>https://en.wikipedia.org/wiki/Dr._Jekyll_and_M...</td>\n",
       "      <td>White-haired Dr. Jekyll has secretly locked hi...</td>\n",
       "    </tr>\n",
       "    <tr>\n",
       "      <th>4</th>\n",
       "      <td>1913</td>\n",
       "      <td>Dr. Jekyll and Mr. Hyde</td>\n",
       "      <td>American</td>\n",
       "      <td>Herbert Brenon and Carl Laemmle</td>\n",
       "      <td>King Baggot</td>\n",
       "      <td>horror</td>\n",
       "      <td>https://en.wikipedia.org/wiki/Dr._Jekyll_and_M...</td>\n",
       "      <td>Dr. Henry Jekyll (King Baggot) sends a note to...</td>\n",
       "    </tr>\n",
       "    <tr>\n",
       "      <th>...</th>\n",
       "      <td>...</td>\n",
       "      <td>...</td>\n",
       "      <td>...</td>\n",
       "      <td>...</td>\n",
       "      <td>...</td>\n",
       "      <td>...</td>\n",
       "      <td>...</td>\n",
       "      <td>...</td>\n",
       "    </tr>\n",
       "    <tr>\n",
       "      <th>7869</th>\n",
       "      <td>2010</td>\n",
       "      <td>Dragon Trap</td>\n",
       "      <td>Turkish</td>\n",
       "      <td>Uğur Yücel</td>\n",
       "      <td>Uğur Yücel &amp; Kenan İmirzalıoğlu</td>\n",
       "      <td>thriller</td>\n",
       "      <td>https://en.wikipedia.org/wiki/Dragon_Trap</td>\n",
       "      <td>Ensar (Nejat İşler) has turned into a ruthless...</td>\n",
       "    </tr>\n",
       "    <tr>\n",
       "      <th>7870</th>\n",
       "      <td>2010</td>\n",
       "      <td>Ada: Zombilerin Düğünü</td>\n",
       "      <td>Turkish</td>\n",
       "      <td>Murat Emir Eren &amp; Talip Ertürk</td>\n",
       "      <td>Ozan Ayhan &amp; Esra Ruşan</td>\n",
       "      <td>horror</td>\n",
       "      <td>https://en.wikipedia.org/wiki/Ada:_Zombilerin_...</td>\n",
       "      <td>A group of friends gather to attend a wedding ...</td>\n",
       "    </tr>\n",
       "    <tr>\n",
       "      <th>7871</th>\n",
       "      <td>2010</td>\n",
       "      <td>The Voice</td>\n",
       "      <td>Turkish</td>\n",
       "      <td>Ümit Ünal</td>\n",
       "      <td>Mehmet Günsür, Selma Ergeç &amp; Tayanç Ayaydın</td>\n",
       "      <td>horror</td>\n",
       "      <td>https://en.wikipedia.org/wiki/The_Voice_(film)</td>\n",
       "      <td>Derya (Selma Ergeç) works in a bank's call cen...</td>\n",
       "    </tr>\n",
       "    <tr>\n",
       "      <th>7872</th>\n",
       "      <td>2010</td>\n",
       "      <td>Five Minarets in New York</td>\n",
       "      <td>Turkish</td>\n",
       "      <td>Mahsun Kırmızıgül</td>\n",
       "      <td>Mahsun Kırmızıgül, Haluk Bilginer &amp; Mustafa Sa...</td>\n",
       "      <td>action</td>\n",
       "      <td>https://en.wikipedia.org/wiki/Five_Minarets_in...</td>\n",
       "      <td>The film follows two anti-terror officers from...</td>\n",
       "    </tr>\n",
       "    <tr>\n",
       "      <th>7873</th>\n",
       "      <td>2010</td>\n",
       "      <td>Secret of the Sultan</td>\n",
       "      <td>Turkish</td>\n",
       "      <td>Ömer Erbil</td>\n",
       "      <td>Şerif Sezer, Mark Dacascos &amp; Zeynep Beşerler</td>\n",
       "      <td>action</td>\n",
       "      <td>https://en.wikipedia.org/wiki/Secret_of_the_Su...</td>\n",
       "      <td>An American professor travels to Istanbul to f...</td>\n",
       "    </tr>\n",
       "  </tbody>\n",
       "</table>\n",
       "<p>7874 rows × 8 columns</p>\n",
       "</div>"
      ],
      "text/plain": [
       "      Release Year                      Title Origin/Ethnicity  \\\n",
       "0             1903    The Great Train Robbery         American   \n",
       "1             1908       The Call of the Wild         American   \n",
       "2             1908      The Fight for Freedom         American   \n",
       "3             1912    Dr. Jekyll and Mr. Hyde         American   \n",
       "4             1913    Dr. Jekyll and Mr. Hyde         American   \n",
       "...            ...                        ...              ...   \n",
       "7869          2010                Dragon Trap          Turkish   \n",
       "7870          2010     Ada: Zombilerin Düğünü          Turkish   \n",
       "7871          2010                  The Voice          Turkish   \n",
       "7872          2010  Five Minarets in New York          Turkish   \n",
       "7873          2010       Secret of the Sultan          Turkish   \n",
       "\n",
       "                             Director  \\\n",
       "0                     Edwin S. Porter   \n",
       "1                      D. W. Griffith   \n",
       "2                      D. W. Griffith   \n",
       "3                    Lucius Henderson   \n",
       "4     Herbert Brenon and Carl Laemmle   \n",
       "...                               ...   \n",
       "7869                       Uğur Yücel   \n",
       "7870   Murat Emir Eren & Talip Ertürk   \n",
       "7871                        Ümit Ünal   \n",
       "7872                Mahsun Kırmızıgül   \n",
       "7873                       Ömer Erbil   \n",
       "\n",
       "                                                   Cast      Genre  \\\n",
       "0                                                   NaN    western   \n",
       "1                                        Charles Inslee  adventure   \n",
       "2                         Florence Auer, John G. Adolfi    western   \n",
       "3                                           James Cruze     horror   \n",
       "4                                           King Baggot     horror   \n",
       "...                                                 ...        ...   \n",
       "7869                    Uğur Yücel & Kenan İmirzalıoğlu   thriller   \n",
       "7870                            Ozan Ayhan & Esra Ruşan     horror   \n",
       "7871        Mehmet Günsür, Selma Ergeç & Tayanç Ayaydın     horror   \n",
       "7872  Mahsun Kırmızıgül, Haluk Bilginer & Mustafa Sa...     action   \n",
       "7873       Şerif Sezer, Mark Dacascos & Zeynep Beşerler     action   \n",
       "\n",
       "                                              Wiki Page  \\\n",
       "0     https://en.wikipedia.org/wiki/The_Great_Train_...   \n",
       "1     https://en.wikipedia.org/wiki/The_Call_of_the_...   \n",
       "2     https://en.wikipedia.org/wiki/The_Fight_for_Fr...   \n",
       "3     https://en.wikipedia.org/wiki/Dr._Jekyll_and_M...   \n",
       "4     https://en.wikipedia.org/wiki/Dr._Jekyll_and_M...   \n",
       "...                                                 ...   \n",
       "7869          https://en.wikipedia.org/wiki/Dragon_Trap   \n",
       "7870  https://en.wikipedia.org/wiki/Ada:_Zombilerin_...   \n",
       "7871     https://en.wikipedia.org/wiki/The_Voice_(film)   \n",
       "7872  https://en.wikipedia.org/wiki/Five_Minarets_in...   \n",
       "7873  https://en.wikipedia.org/wiki/Secret_of_the_Su...   \n",
       "\n",
       "                                                   Plot  \n",
       "0     The film opens with two bandits breaking into ...  \n",
       "1     A white girl (Florence Lawrence) rejects a pro...  \n",
       "2     The film opens in a town on the Mexican border...  \n",
       "3     White-haired Dr. Jekyll has secretly locked hi...  \n",
       "4     Dr. Henry Jekyll (King Baggot) sends a note to...  \n",
       "...                                                 ...  \n",
       "7869  Ensar (Nejat İşler) has turned into a ruthless...  \n",
       "7870  A group of friends gather to attend a wedding ...  \n",
       "7871  Derya (Selma Ergeç) works in a bank's call cen...  \n",
       "7872  The film follows two anti-terror officers from...  \n",
       "7873  An American professor travels to Istanbul to f...  \n",
       "\n",
       "[7874 rows x 8 columns]"
      ]
     },
     "execution_count": 2,
     "metadata": {},
     "output_type": "execute_result"
    }
   ],
   "source": [
    "dataset = pd.read_csv('../cleaned_data_2.csv')\n",
    "dataset.drop(['Unnamed: 0'], axis=1, inplace=True)\n",
    "dataset"
   ]
  },
  {
   "cell_type": "code",
   "execution_count": 3,
   "metadata": {},
   "outputs": [],
   "source": [
    "x = dataset['Plot'].copy()\n",
    "y1 = dataset['Genre'].copy()"
   ]
  },
  {
   "cell_type": "code",
   "execution_count": 7,
   "metadata": {},
   "outputs": [
    {
     "name": "stderr",
     "output_type": "stream",
     "text": [
      "c:\\Users\\Prash\\AppData\\Local\\Programs\\Python\\Python310\\lib\\site-packages\\sklearn\\feature_extraction\\text.py:528: UserWarning: The parameter 'token_pattern' will not be used since 'tokenizer' is not None'\n",
      "  warnings.warn(\n"
     ]
    }
   ],
   "source": [
    "unique_values = list(y1.unique())\n",
    "mapping = {value: index for index, value in enumerate(unique_values)}\n",
    "y2 = [mapping[string] for string in y1]\n",
    "mapping = {index: value for value, index in mapping.items()}\n",
    "stop_words = set(stopwords.words('english'))\n",
    "\n",
    "for i in range (0, len(x)):\n",
    "    plot = word_tokenize(x[i])\n",
    "    filtered_plot = [word for word in plot if not word in stop_words]\n",
    "    x[i] = ' '.join(filtered_plot)\n",
    "\n",
    "xtrain, xtest, ytrain, ytest = train_test_split(x,y2, test_size=0.15, shuffle=True, stratify=y2, random_state=1)\n",
    "xtrain = np.array(xtrain)\n",
    "ytrain = np.array(ytrain)\n",
    "xtest = np.array(xtest)\n",
    "ytest = np.array(ytest)\n",
    "vectorizer = TfidfVectorizer(tokenizer=LemmTokenizer(), sublinear_tf=True, max_features=2000)\n",
    "\n",
    "xtrain = vectorizer.fit_transform(xtrain)\n",
    "xtest = vectorizer.transform(xtest)\n",
    "\n",
    "from scipy.sparse import save_npz\n",
    "save_npz('xtrain2.npz', xtrain)\n",
    "save_npz('xtest2.npz', xtest)\n",
    "np.save('ytrain2.npy', ytrain)\n",
    "np.save('ytest2.npy', ytest)"
   ]
  }
 ],
 "metadata": {
  "kernelspec": {
   "display_name": "Python 3",
   "language": "python",
   "name": "python3"
  },
  "language_info": {
   "codemirror_mode": {
    "name": "ipython",
    "version": 3
   },
   "file_extension": ".py",
   "mimetype": "text/x-python",
   "name": "python",
   "nbconvert_exporter": "python",
   "pygments_lexer": "ipython3",
   "version": "3.10.10"
  },
  "orig_nbformat": 4
 },
 "nbformat": 4,
 "nbformat_minor": 2
}

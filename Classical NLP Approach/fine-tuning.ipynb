{
 "cells": [
  {
   "cell_type": "code",
   "execution_count": 1,
   "metadata": {},
   "outputs": [],
   "source": [
    "import numpy as np\n",
    "import matplotlib.pyplot as plt\n",
    "from sklearn.linear_model import LogisticRegression\n",
    "from sklearn.ensemble import GradientBoostingClassifier\n",
    "from catboost import CatBoostClassifier\n",
    "from lightgbm import LGBMClassifier\n",
    "from scipy import sparse\n",
    "import sys\n",
    "from sklearn.utils import shuffle\n",
    "import joblib\n",
    "sys.path.append(\"../\")\n",
    "from helper_functions import *"
   ]
  },
  {
   "cell_type": "code",
   "execution_count": 2,
   "metadata": {},
   "outputs": [],
   "source": [
    "x_train = sparse.load_npz(\"Data/xtrain.npz\")\n",
    "x_test = sparse.load_npz(\"Data/xtest.npz\")\n",
    "y_train = np.load(\"Data/ytrain.npy\")\n",
    "y_test = np.load(\"Data/ytest.npy\")"
   ]
  },
  {
   "cell_type": "code",
   "execution_count": 3,
   "metadata": {},
   "outputs": [],
   "source": [
    "x_train = x_train.toarray()\n",
    "x_test = x_test.toarray()\n",
    "x = np.concatenate([x_train, x_test], axis=0)\n",
    "y = np.concatenate([y_train, y_test], axis=0)\n",
    "x = sparse.csr_matrix(x)"
   ]
  },
  {
   "cell_type": "code",
   "execution_count": 4,
   "metadata": {},
   "outputs": [],
   "source": [
    "x,y = shuffle(x,y, random_state=1)"
   ]
  },
  {
   "cell_type": "code",
   "execution_count": 7,
   "metadata": {},
   "outputs": [],
   "source": [
    "log_reg = LogisticRegression()\n",
    "lgbm = LGBMClassifier()\n",
    "gboost = GradientBoostingClassifier()\n",
    "cat = CatBoostClassifier()"
   ]
  },
  {
   "cell_type": "code",
   "execution_count": 6,
   "metadata": {},
   "outputs": [],
   "source": [
    "models = {\n",
    "    'LogisticRegression': log_reg,\n",
    "    'LGBMClassifier': lgbm,\n",
    "    'GradientBoostingClassifier': gboost,\n",
    "    'CatBoostClassifier': cat\n",
    "}"
   ]
  },
  {
   "cell_type": "code",
   "execution_count": 7,
   "metadata": {},
   "outputs": [
    {
     "name": "stdout",
     "output_type": "stream",
     "text": [
      "Starting Grid Search for Model: LogisticRegression\n"
     ]
    }
   ],
   "source": [
    "BestParam_search(models, x, y, 2)"
   ]
  },
  {
   "attachments": {},
   "cell_type": "markdown",
   "metadata": {},
   "source": [
    "## The Result for Logistic Regression and LGBM classifier were as follows:\n",
    "<font size ='5'>\n",
    "Starting Grid Search for Model: LogisticRegression  <br>                            \n",
    "Search Finished                                         <br>                            \n",
    "Best hyperparameters:  {'C': 100, 'l1_ratio': 0.2, 'max_iter': 2000, 'penalty': 'elasticnet', 'solver': 'saga'}<br>         \n",
    "Best score:  0.6722116939956837                             <br>                                           \n",
    "------------------------ <br>                                        \n",
    "Starting Grid Search for Model: LGBMClassifier<br>\n",
    "Search Finished<br>\n",
    "Best hyperparameters:  {'colsample_bytree': 0.8, 'learning_rate': 0.1, 'max_depth': 3, 'n_estimators': 300, 'subsample': 0.8}<br>\n",
    "Best score:  0.61531530223271<br>\n",
    "------------------------<br>\n",
    "</font>\n",
    "<br>\n",
    "Gradient Boosting and CatBoost were taking too long to figure out so they were dropped"
   ]
  },
  {
   "cell_type": "code",
   "execution_count": 11,
   "metadata": {},
   "outputs": [],
   "source": [
    "log_reg = LogisticRegression(C=100, l1_ratio=0.2, penalty='elasticnet', solver='saga', max_iter=2000)\n",
    "log_reg.fit(x_train, y_train)\n",
    "log_reg.score(x_test, y_test)"
   ]
  }
 ],
 "metadata": {
  "kernelspec": {
   "display_name": "base",
   "language": "python",
   "name": "python3"
  },
  "language_info": {
   "codemirror_mode": {
    "name": "ipython",
    "version": 3
   },
   "file_extension": ".py",
   "mimetype": "text/x-python",
   "name": "python",
   "nbconvert_exporter": "python",
   "pygments_lexer": "ipython3",
   "version": "3.10.9"
  },
  "orig_nbformat": 4
 },
 "nbformat": 4,
 "nbformat_minor": 2
}

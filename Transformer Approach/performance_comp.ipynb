{
 "cells": [
  {
   "cell_type": "markdown",
   "metadata": {},
   "source": [
    "# IMPORTING LIBRARIES"
   ]
  },
  {
   "cell_type": "code",
   "execution_count": 1,
   "metadata": {},
   "outputs": [
    {
     "name": "stderr",
     "output_type": "stream",
     "text": [
      "c:\\Users\\Prash\\AppData\\Local\\Programs\\Python\\Python310\\lib\\site-packages\\tqdm\\auto.py:21: TqdmWarning: IProgress not found. Please update jupyter and ipywidgets. See https://ipywidgets.readthedocs.io/en/stable/user_install.html\n",
      "  from .autonotebook import tqdm as notebook_tqdm\n"
     ]
    }
   ],
   "source": [
    "import sys\n",
    "sys.path.append(\"../\")\n",
    "from helper_functions import *"
   ]
  },
  {
   "cell_type": "code",
   "execution_count": 2,
   "metadata": {},
   "outputs": [],
   "source": [
    "from sklearn.model_selection import cross_val_score\n",
    "from sklearn.metrics import f1_score\n",
    "import joblib"
   ]
  },
  {
   "cell_type": "markdown",
   "metadata": {},
   "source": [
    "# IMPORTING DATA"
   ]
  },
  {
   "cell_type": "code",
   "execution_count": 3,
   "metadata": {},
   "outputs": [],
   "source": [
    "xtrain = np.load(\"Data/xtrain.npy\")\n",
    "xtest = np.load(\"Data/xtest.npy\")\n",
    "ytrain = np.load(\"Data/ytrain.npy\")\n",
    "ytest = np.load(\"Data/ytest.npy\")"
   ]
  },
  {
   "cell_type": "code",
   "execution_count": 4,
   "metadata": {},
   "outputs": [],
   "source": [
    "x = np.vstack([xtrain, xtest])\n",
    "y = np.hstack([ytrain, ytest])"
   ]
  },
  {
   "cell_type": "code",
   "execution_count": 5,
   "metadata": {},
   "outputs": [
    {
     "data": {
      "text/plain": [
       "((7874, 768), (7874,))"
      ]
     },
     "execution_count": 5,
     "metadata": {},
     "output_type": "execute_result"
    }
   ],
   "source": [
    "x.shape, y.shape"
   ]
  },
  {
   "cell_type": "markdown",
   "metadata": {},
   "source": [
    "# COMPARING MODELS"
   ]
  },
  {
   "cell_type": "markdown",
   "metadata": {},
   "source": [
    "## Logistic Regression"
   ]
  },
  {
   "cell_type": "code",
   "execution_count": 8,
   "metadata": {},
   "outputs": [],
   "source": [
    "LR_unweighted = joblib.load(\"Models/Initial/Unweighted/Logistic Regression.pk1\")\n",
    "LR_weighted = joblib.load(\"Models/Initial/Weighted/Logistic Regression.pk1\")"
   ]
  },
  {
   "cell_type": "code",
   "execution_count": 16,
   "metadata": {},
   "outputs": [
    {
     "data": {
      "text/plain": [
       "(0.6714961499267383, 0.66143441349184)"
      ]
     },
     "execution_count": 16,
     "metadata": {},
     "output_type": "execute_result"
    }
   ],
   "source": [
    "cv_lr_unweighted = cross_val_score(LR_unweighted, x, y, scoring='f1_weighted', n_jobs=3)\n",
    "cv_lr_weighted = cross_val_score(LR_weighted, x, y, scoring='f1_weighted', n_jobs = 3)\n",
    "\n",
    "cv_lr_unweighted.mean(), cv_lr_weighted.mean()"
   ]
  },
  {
   "cell_type": "code",
   "execution_count": 17,
   "metadata": {},
   "outputs": [
    {
     "data": {
      "text/plain": [
       "(0.6756436538190032, 0.6631963857122688)"
      ]
     },
     "execution_count": 17,
     "metadata": {},
     "output_type": "execute_result"
    }
   ],
   "source": [
    "cv_lr_unweighted = cross_val_score(LR_unweighted, x, y, scoring='f1_micro', n_jobs=3)\n",
    "cv_lr_weighted = cross_val_score(LR_weighted, x, y, scoring='f1_micro', n_jobs = 3)\n",
    "\n",
    "cv_lr_unweighted.mean(), cv_lr_weighted.mean()"
   ]
  },
  {
   "cell_type": "markdown",
   "metadata": {},
   "source": [
    "## CatBoost"
   ]
  },
  {
   "cell_type": "code",
   "execution_count": 7,
   "metadata": {},
   "outputs": [],
   "source": [
    "cat_unweighted = joblib.load(\"Models/Initial/Unweighted/CatBoost.pk1\")\n",
    "cat_weighted = joblib.load(\"Models/Initial/Weighted/CatBoost.pk1\")"
   ]
  },
  {
   "cell_type": "code",
   "execution_count": 8,
   "metadata": {},
   "outputs": [
    {
     "data": {
      "text/plain": [
       "(0.6574354928834059, 0.6613902799771431)"
      ]
     },
     "execution_count": 8,
     "metadata": {},
     "output_type": "execute_result"
    }
   ],
   "source": [
    "cv_cat_unweighted = cross_val_score(cat_unweighted, x, y, scoring='f1_weighted', n_jobs=3)\n",
    "cv_cat_weighted = cross_val_score(cat_weighted, x, y, scoring='f1_weighted', n_jobs = 3)\n",
    "\n",
    "cv_cat_unweighted.mean(), cv_cat_weighted.mean()"
   ]
  }
 ],
 "metadata": {
  "kernelspec": {
   "display_name": "Python 3",
   "language": "python",
   "name": "python3"
  },
  "language_info": {
   "codemirror_mode": {
    "name": "ipython",
    "version": 3
   },
   "file_extension": ".py",
   "mimetype": "text/x-python",
   "name": "python",
   "nbconvert_exporter": "python",
   "pygments_lexer": "ipython3",
   "version": "3.10.11"
  },
  "orig_nbformat": 4
 },
 "nbformat": 4,
 "nbformat_minor": 2
}
